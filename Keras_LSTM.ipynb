{
  "nbformat": 4,
  "nbformat_minor": 0,
  "metadata": {
    "colab": {
      "name": "Keras_LSTM.ipynb",
      "version": "0.3.2",
      "provenance": [],
      "collapsed_sections": [],
      "include_colab_link": true
    },
    "kernelspec": {
      "name": "python3",
      "display_name": "Python 3"
    }
  },
  "cells": [
    {
      "cell_type": "markdown",
      "metadata": {
        "id": "view-in-github",
        "colab_type": "text"
      },
      "source": [
        "<a href=\"https://colab.research.google.com/github/prashankkadam/Test_TF/blob/Keras/Keras_LSTM.ipynb\" target=\"_parent\"><img src=\"https://colab.research.google.com/assets/colab-badge.svg\" alt=\"Open In Colab\"/></a>"
      ]
    },
    {
      "cell_type": "markdown",
      "metadata": {
        "id": "ZidusFor-cyG",
        "colab_type": "text"
      },
      "source": [
        "## **Keras Test Sequence classification**"
      ]
    },
    {
      "cell_type": "code",
      "metadata": {
        "id": "47c1AwGO95Cx",
        "colab_type": "code",
        "colab": {
          "base_uri": "https://localhost:8080/",
          "height": 445
        },
        "outputId": "2544a97d-f8be-4f64-84e7-73b5c944bd1c"
      },
      "source": [
        "import numpy as np\n",
        "import keras\n",
        "from keras.models import Sequential\n",
        "from keras.layers import Dense, Dropout, Flatten\n",
        "from keras.layers import Conv2D, MaxPooling2D\n",
        "from keras.optimizers import SGD\n",
        "\n",
        "# Generate dummy data\n",
        "x_train = np.random.random((100, 100, 100, 3))\n",
        "y_train = keras.utils.to_categorical(np.random.randint(10, size=(100, 1)), num_classes=10)\n",
        "x_test = np.random.random((20, 100, 100, 3))\n",
        "y_test = keras.utils.to_categorical(np.random.randint(10, size=(20, 1)), num_classes=10)\n",
        "\n",
        "model = Sequential()\n",
        "# input: 100x100 images with 3 channels -> (100, 100, 3) tensors.\n",
        "# this applies 32 convolution filters of size 3x3 each.\n",
        "model.add(Conv2D(32, (3, 3), activation='relu', input_shape=(100, 100, 3)))\n",
        "model.add(Conv2D(32, (3, 3), activation='relu'))\n",
        "model.add(MaxPooling2D(pool_size=(2, 2)))\n",
        "model.add(Dropout(0.25))\n",
        "\n",
        "model.add(Conv2D(64, (3, 3), activation='relu'))\n",
        "model.add(Conv2D(64, (3, 3), activation='relu'))\n",
        "model.add(MaxPooling2D(pool_size=(2, 2)))\n",
        "model.add(Dropout(0.25))\n",
        "\n",
        "model.add(Flatten())\n",
        "model.add(Dense(256, activation='relu'))\n",
        "model.add(Dropout(0.5))\n",
        "model.add(Dense(10, activation='softmax'))\n",
        "\n",
        "sgd = SGD(lr=0.01, decay=1e-6, momentum=0.9, nesterov=True)\n",
        "model.compile(loss='categorical_crossentropy', optimizer=sgd)\n",
        "\n",
        "model.fit(x_train, y_train, batch_size=32, epochs=10)\n",
        "score = model.evaluate(x_test, y_test, batch_size=32)"
      ],
      "execution_count": 2,
      "outputs": [
        {
          "output_type": "stream",
          "text": [
            "WARNING:tensorflow:From /usr/local/lib/python3.6/dist-packages/tensorflow/python/ops/math_ops.py:3066: to_int32 (from tensorflow.python.ops.math_ops) is deprecated and will be removed in a future version.\n",
            "Instructions for updating:\n",
            "Use tf.cast instead.\n",
            "Epoch 1/10\n",
            "100/100 [==============================] - 7s 69ms/step - loss: 2.3221\n",
            "Epoch 2/10\n",
            "100/100 [==============================] - 6s 55ms/step - loss: 2.3418\n",
            "Epoch 3/10\n",
            "100/100 [==============================] - 6s 55ms/step - loss: 2.2859\n",
            "Epoch 4/10\n",
            "100/100 [==============================] - 5s 55ms/step - loss: 2.2690\n",
            "Epoch 5/10\n",
            "100/100 [==============================] - 5s 55ms/step - loss: 2.2824\n",
            "Epoch 6/10\n",
            "100/100 [==============================] - 5s 54ms/step - loss: 2.2873\n",
            "Epoch 7/10\n",
            "100/100 [==============================] - 5s 55ms/step - loss: 2.2848\n",
            "Epoch 8/10\n",
            "100/100 [==============================] - 5s 55ms/step - loss: 2.2690\n",
            "Epoch 9/10\n",
            "100/100 [==============================] - 6s 55ms/step - loss: 2.2577\n",
            "Epoch 10/10\n",
            "100/100 [==============================] - 5s 54ms/step - loss: 2.2840\n",
            "20/20 [==============================] - 0s 17ms/step\n"
          ],
          "name": "stdout"
        }
      ]
    },
    {
      "cell_type": "markdown",
      "metadata": {
        "id": "a1e7pVnY98jQ",
        "colab_type": "text"
      },
      "source": [
        "## **Sequence classification with LSTM:**"
      ]
    },
    {
      "cell_type": "code",
      "metadata": {
        "id": "J628cBjM8Kxq",
        "colab_type": "code",
        "colab": {}
      },
      "source": [
        "from keras.models import Sequential\n",
        "from keras.layers import Dense, Dropout\n",
        "from keras.layers import Embedding\n",
        "from keras.layers import LSTM\n",
        "\n",
        "x_train = np.random.random((100, 64, 100))\n",
        "y_train = keras.utils.to_categorical(np.random.randint(10, size=(100, 1)), num_classes=10)\n",
        "x_test = np.random.random((20, 64, 100))\n",
        "y_test = keras.utils.to_categorical(np.random.randint(10, size=(20, 1)), num_classes=10)\n",
        "\n",
        "max_features = 1024\n",
        "model.add(Embedding(max_features, output_dim=256))\n",
        "model.add(LSTM(128))\n",
        "model.add(Dropout(0.5))\n",
        "model.add(Dense(10, activation='sigmoid'))\n",
        "\n",
        "model.compile(loss='binary_crossentropy',\n",
        "              optimizer='rmsprop',\n",
        "              metrics=['accuracy'])\n",
        "\n",
        "model.fit(x_train, y_train, batch_size=16, epochs=10)\n",
        "score = model.evaluate(x_test, y_test, batch_size=16)"
      ],
      "execution_count": 0,
      "outputs": []
    },
    {
      "cell_type": "markdown",
      "metadata": {
        "id": "ZDxPHztL_Jy3",
        "colab_type": "text"
      },
      "source": [
        "## **Sequence classification with 1D convolutions:**"
      ]
    },
    {
      "cell_type": "code",
      "metadata": {
        "id": "V3NHDtkc_KNP",
        "colab_type": "code",
        "colab": {
          "base_uri": "https://localhost:8080/",
          "height": 394
        },
        "outputId": "5ab313b2-fddd-4ee7-ea3e-d2222850ac03"
      },
      "source": [
        "from keras.models import Sequential\n",
        "from keras.layers import Dense, Dropout\n",
        "from keras.layers import Embedding \n",
        "from keras.layers import Conv1D, GlobalAveragePooling1D, MaxPooling1D\n",
        "\n",
        "x_train = np.random.random((100, 64, 100))\n",
        "y_train = keras.utils.to_categorical(np.random.randint(10, size=(100, 1)), num_classes=10)\n",
        "x_test = np.random.random((20, 64, 100))\n",
        "y_test = keras.utils.to_categorical(np.random.randint(10, size=(20, 1)), num_classes=10)\n",
        "\n",
        "\n",
        "seq_length = 64\n",
        "\n",
        "model = Sequential()\n",
        "model.add(Conv1D(64, 3, activation='relu', input_shape=(seq_length,100)))\n",
        "model.add(Conv1D(64, 3, activation='relu'))\n",
        "model.add(MaxPooling1D(3))\n",
        "model.add(Conv1D(128, 3, activation='relu'))\n",
        "model.add(Conv1D(128, 3, activation='relu'))\n",
        "model.add(GlobalAveragePooling1D())\n",
        "model.add(Dropout(0.5))\n",
        "model.add(Dense(10, activation='sigmoid'))\n",
        "\n",
        "model.compile(loss='binary_crossentropy',\n",
        "              optimizer='rmsprop',\n",
        "              metrics=['accuracy'])\n",
        "\n",
        "model.fit(x_train, y_train, batch_size=16, epochs=10)\n",
        "score = model.evaluate(x_test, y_test, batch_size=16)"
      ],
      "execution_count": 13,
      "outputs": [
        {
          "output_type": "stream",
          "text": [
            "Epoch 1/10\n",
            "100/100 [==============================] - 1s 12ms/step - loss: 0.4967 - acc: 0.7910\n",
            "Epoch 2/10\n",
            "100/100 [==============================] - 0s 1ms/step - loss: 0.3856 - acc: 0.8890\n",
            "Epoch 3/10\n",
            "100/100 [==============================] - 0s 1ms/step - loss: 0.3495 - acc: 0.8950\n",
            "Epoch 4/10\n",
            "100/100 [==============================] - 0s 1ms/step - loss: 0.3598 - acc: 0.8860\n",
            "Epoch 5/10\n",
            "100/100 [==============================] - 0s 1ms/step - loss: 0.3677 - acc: 0.8950\n",
            "Epoch 6/10\n",
            "100/100 [==============================] - 0s 1ms/step - loss: 0.3506 - acc: 0.8960\n",
            "Epoch 7/10\n",
            "100/100 [==============================] - 0s 1ms/step - loss: 0.3696 - acc: 0.8930\n",
            "Epoch 8/10\n",
            "100/100 [==============================] - 0s 1ms/step - loss: 0.3661 - acc: 0.8950\n",
            "Epoch 9/10\n",
            "100/100 [==============================] - 0s 1ms/step - loss: 0.3551 - acc: 0.8970\n",
            "Epoch 10/10\n",
            "100/100 [==============================] - 0s 1ms/step - loss: 0.3643 - acc: 0.8970\n",
            "20/20 [==============================] - 0s 18ms/step\n"
          ],
          "name": "stdout"
        }
      ]
    },
    {
      "cell_type": "code",
      "metadata": {
        "id": "WW_27to9BC7N",
        "colab_type": "code",
        "colab": {}
      },
      "source": [
        ""
      ],
      "execution_count": 0,
      "outputs": []
    }
  ]
}