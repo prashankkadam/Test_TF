{
  "nbformat": 4,
  "nbformat_minor": 0,
  "metadata": {
    "colab": {
      "name": "Keras_basic_seq_modelling.ipynb",
      "version": "0.3.2",
      "provenance": [],
      "collapsed_sections": [],
      "include_colab_link": true
    },
    "kernelspec": {
      "name": "python3",
      "display_name": "Python 3"
    }
  },
  "cells": [
    {
      "cell_type": "markdown",
      "metadata": {
        "id": "view-in-github",
        "colab_type": "text"
      },
      "source": [
        "<a href=\"https://colab.research.google.com/github/prashankkadam/Test_TF/blob/Keras/Keras_basic_seq_modelling.ipynb\" target=\"_parent\"><img src=\"https://colab.research.google.com/assets/colab-badge.svg\" alt=\"Open In Colab\"/></a>"
      ]
    },
    {
      "cell_type": "markdown",
      "metadata": {
        "id": "8lFLppQmfm_z",
        "colab_type": "text"
      },
      "source": [
        "## **Building Keras sequential models**"
      ]
    },
    {
      "cell_type": "markdown",
      "metadata": {
        "id": "4BdlDqpJfwOm",
        "colab_type": "text"
      },
      "source": [
        "There are two ways of creating a sequential model in kerasL\n",
        "1. Pass the list of layer instances to the constructor\n",
        "2. Add layers via the add method"
      ]
    },
    {
      "cell_type": "markdown",
      "metadata": {
        "id": "hVRmFVrkgNBF",
        "colab_type": "text"
      },
      "source": [
        "Passing the list of layer instances to the constructor"
      ]
    },
    {
      "cell_type": "code",
      "metadata": {
        "id": "5YO3I9aCfXSa",
        "colab_type": "code",
        "colab": {
          "base_uri": "https://localhost:8080/",
          "height": 105
        },
        "outputId": "18d04c16-51ed-4f98-f66f-9dc3f27e9987"
      },
      "source": [
        "from keras.models import Sequential\n",
        "from keras.layers import Dense, Activation\n",
        "\n",
        "model = Sequential([\n",
        "        Dense(32, input_shape=(784,)),\n",
        "        Activation('relu'),\n",
        "        Dense(10),\n",
        "        Activation('softmax'),\n",
        "])"
      ],
      "execution_count": 1,
      "outputs": [
        {
          "output_type": "stream",
          "text": [
            "Using TensorFlow backend.\n"
          ],
          "name": "stderr"
        },
        {
          "output_type": "stream",
          "text": [
            "WARNING:tensorflow:From /usr/local/lib/python3.6/dist-packages/tensorflow/python/framework/op_def_library.py:263: colocate_with (from tensorflow.python.framework.ops) is deprecated and will be removed in a future version.\n",
            "Instructions for updating:\n",
            "Colocations handled automatically by placer.\n"
          ],
          "name": "stdout"
        }
      ]
    },
    {
      "cell_type": "markdown",
      "metadata": {
        "id": "lCe7NYhkhWMr",
        "colab_type": "text"
      },
      "source": [
        "Add layers via the add method"
      ]
    },
    {
      "cell_type": "code",
      "metadata": {
        "id": "nyiVUrd2g-iD",
        "colab_type": "code",
        "colab": {}
      },
      "source": [
        "model = Sequential()\n",
        "model.add(Dense(32, input_dim=784))\n",
        "model.add(Activation('relu'))"
      ],
      "execution_count": 0,
      "outputs": []
    },
    {
      "cell_type": "code",
      "metadata": {
        "id": "HRXUbQpphQw8",
        "colab_type": "code",
        "colab": {}
      },
      "source": [
        ""
      ],
      "execution_count": 0,
      "outputs": []
    }
  ]
}