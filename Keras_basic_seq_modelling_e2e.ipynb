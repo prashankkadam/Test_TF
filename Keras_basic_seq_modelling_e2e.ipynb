{
  "nbformat": 4,
  "nbformat_minor": 0,
  "metadata": {
    "colab": {
      "name": "Keras_basic_seq_modelling_e2e.ipynb",
      "version": "0.3.2",
      "provenance": [],
      "collapsed_sections": [],
      "include_colab_link": true
    },
    "kernelspec": {
      "name": "python3",
      "display_name": "Python 3"
    }
  },
  "cells": [
    {
      "cell_type": "markdown",
      "metadata": {
        "id": "view-in-github",
        "colab_type": "text"
      },
      "source": [
        "<a href=\"https://colab.research.google.com/github/prashankkadam/Test_TF/blob/Keras/Keras_basic_seq_modelling_e2e.ipynb\" target=\"_parent\"><img src=\"https://colab.research.google.com/assets/colab-badge.svg\" alt=\"Open In Colab\"/></a>"
      ]
    },
    {
      "cell_type": "markdown",
      "metadata": {
        "id": "8lFLppQmfm_z",
        "colab_type": "text"
      },
      "source": [
        "## **Building Keras sequential models**"
      ]
    },
    {
      "cell_type": "markdown",
      "metadata": {
        "id": "4BdlDqpJfwOm",
        "colab_type": "text"
      },
      "source": [
        "There are two ways of creating a sequential model in kerasL\n",
        "1. Pass the list of layer instances to the constructor\n",
        "2. Add layers via the add method"
      ]
    },
    {
      "cell_type": "markdown",
      "metadata": {
        "id": "hVRmFVrkgNBF",
        "colab_type": "text"
      },
      "source": [
        "Passing the list of layer instances to the constructor"
      ]
    },
    {
      "cell_type": "code",
      "metadata": {
        "id": "5YO3I9aCfXSa",
        "colab_type": "code",
        "outputId": "cc504e13-3dd6-4f0c-89db-3490ca0225b4",
        "colab": {
          "base_uri": "https://localhost:8080/",
          "height": 105
        }
      },
      "source": [
        "from keras.models import Sequential\n",
        "from keras.layers import Dense, Activation\n",
        "\n",
        "model = Sequential([\n",
        "        Dense(32, input_shape=(784,)),\n",
        "        Activation('relu'),\n",
        "        Dense(10),\n",
        "        Activation('softmax'),\n",
        "])"
      ],
      "execution_count": 3,
      "outputs": [
        {
          "output_type": "stream",
          "text": [
            "Using TensorFlow backend.\n"
          ],
          "name": "stderr"
        },
        {
          "output_type": "stream",
          "text": [
            "WARNING:tensorflow:From /usr/local/lib/python3.6/dist-packages/tensorflow/python/framework/op_def_library.py:263: colocate_with (from tensorflow.python.framework.ops) is deprecated and will be removed in a future version.\n",
            "Instructions for updating:\n",
            "Colocations handled automatically by placer.\n"
          ],
          "name": "stdout"
        }
      ]
    },
    {
      "cell_type": "markdown",
      "metadata": {
        "id": "lCe7NYhkhWMr",
        "colab_type": "text"
      },
      "source": [
        "Add layers via the add method"
      ]
    },
    {
      "cell_type": "code",
      "metadata": {
        "id": "nyiVUrd2g-iD",
        "colab_type": "code",
        "colab": {}
      },
      "source": [
        "model = Sequential()\n",
        "model.add(Dense(32, input_dim=784))\n",
        "model.add(Activation('relu'))"
      ],
      "execution_count": 0,
      "outputs": []
    },
    {
      "cell_type": "markdown",
      "metadata": {
        "id": "RIa1zrOriKMd",
        "colab_type": "text"
      },
      "source": [
        "### **Specifying the input shape:**"
      ]
    },
    {
      "cell_type": "code",
      "metadata": {
        "id": "HRXUbQpphQw8",
        "colab_type": "code",
        "colab": {}
      },
      "source": [
        "model = Sequential()\n",
        "model.add(Dense(32, input_shape=(784,)))"
      ],
      "execution_count": 0,
      "outputs": []
    },
    {
      "cell_type": "code",
      "metadata": {
        "id": "i14yEZK2i8-u",
        "colab_type": "code",
        "colab": {}
      },
      "source": [
        "model = Sequential()\n",
        "model.add(Dense(32, input_dim=784))"
      ],
      "execution_count": 0,
      "outputs": []
    },
    {
      "cell_type": "markdown",
      "metadata": {
        "id": "kR5Kv0lcjvyk",
        "colab_type": "text"
      },
      "source": [
        "## **Compiling Model**"
      ]
    },
    {
      "cell_type": "code",
      "metadata": {
        "id": "n1vLCn3xjfvI",
        "colab_type": "code",
        "colab": {}
      },
      "source": [
        "# for multiclass classification problem\n",
        "model.compile(optimizer='rmsprop',\n",
        "              loss='categorical_crossentropy',\n",
        "              metrics=['accuracy'])\n",
        "\n",
        "# for binary classification problem\n",
        "model.compile(optimizer='rmsprop',\n",
        "              loss='binary_crossentropy',\n",
        "              metrics=['accuracy'])\n",
        "\n",
        "# mean squared error regression problem\n",
        "model.compile(optimizer='rmsprop',\n",
        "              loss='mse')\n",
        "\n",
        "# for custom metrics\n",
        "import keras.backend as K\n",
        "\n",
        "def mean_pred(y_true, y_pred):\n",
        "  return K.mean(y_pred)\n",
        "\n",
        "model.compile(optimizer='rmsprop',\n",
        "              loss='binary_crossentropy',\n",
        "              metrics=['accuracy', mean_pred])"
      ],
      "execution_count": 0,
      "outputs": []
    },
    {
      "cell_type": "markdown",
      "metadata": {
        "id": "S1zWqLX9Mrii",
        "colab_type": "text"
      },
      "source": [
        "## **Training the Model**"
      ]
    },
    {
      "cell_type": "code",
      "metadata": {
        "id": "62B_bgP0MgNj",
        "colab_type": "code",
        "colab": {
          "base_uri": "https://localhost:8080/",
          "height": 445
        },
        "outputId": "c7b326b9-ff91-4e2f-e8b0-3542a4d21c77"
      },
      "source": [
        "model = Sequential()\n",
        "model.add(Dense(32, activation='relu', input_dim=100))\n",
        "model.add(Dense(1, activation='sigmoid'))\n",
        "model.compile(optimizer='rmsprop',\n",
        "              loss='binary_crossentropy',\n",
        "              metrics=['accuracy'])\n",
        "\n",
        "import numpy as np\n",
        "data = np.random.random((1000, 100))\n",
        "labels = np.random.randint(2, size=(1000, 1))\n",
        "\n",
        "model.fit(data, labels, epochs=10, batch_size=32)"
      ],
      "execution_count": 9,
      "outputs": [
        {
          "output_type": "stream",
          "text": [
            "WARNING:tensorflow:From /usr/local/lib/python3.6/dist-packages/tensorflow/python/ops/math_ops.py:3066: to_int32 (from tensorflow.python.ops.math_ops) is deprecated and will be removed in a future version.\n",
            "Instructions for updating:\n",
            "Use tf.cast instead.\n",
            "Epoch 1/10\n",
            "1000/1000 [==============================] - 1s 814us/step - loss: 0.7132 - acc: 0.5060\n",
            "Epoch 2/10\n",
            "1000/1000 [==============================] - 0s 51us/step - loss: 0.7019 - acc: 0.5150\n",
            "Epoch 3/10\n",
            "1000/1000 [==============================] - 0s 53us/step - loss: 0.6941 - acc: 0.5260\n",
            "Epoch 4/10\n",
            "1000/1000 [==============================] - 0s 52us/step - loss: 0.6866 - acc: 0.5390\n",
            "Epoch 5/10\n",
            "1000/1000 [==============================] - 0s 50us/step - loss: 0.6810 - acc: 0.5800\n",
            "Epoch 6/10\n",
            "1000/1000 [==============================] - 0s 44us/step - loss: 0.6756 - acc: 0.5840\n",
            "Epoch 7/10\n",
            "1000/1000 [==============================] - 0s 46us/step - loss: 0.6715 - acc: 0.5860\n",
            "Epoch 8/10\n",
            "1000/1000 [==============================] - 0s 47us/step - loss: 0.6721 - acc: 0.5920\n",
            "Epoch 9/10\n",
            "1000/1000 [==============================] - 0s 50us/step - loss: 0.6643 - acc: 0.6000\n",
            "Epoch 10/10\n",
            "1000/1000 [==============================] - 0s 44us/step - loss: 0.6618 - acc: 0.6040\n"
          ],
          "name": "stdout"
        },
        {
          "output_type": "execute_result",
          "data": {
            "text/plain": [
              "<keras.callbacks.History at 0x7f99fd481710>"
            ]
          },
          "metadata": {
            "tags": []
          },
          "execution_count": 9
        }
      ]
    },
    {
      "cell_type": "code",
      "metadata": {
        "id": "m0glyGe0N_MM",
        "colab_type": "code",
        "colab": {}
      },
      "source": [
        ""
      ],
      "execution_count": 0,
      "outputs": []
    }
  ]
}