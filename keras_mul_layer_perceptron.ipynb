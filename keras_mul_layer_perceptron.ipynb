{
  "nbformat": 4,
  "nbformat_minor": 0,
  "metadata": {
    "colab": {
      "name": "keras_mul_layer_perceptron.ipynb",
      "version": "0.3.2",
      "provenance": [],
      "collapsed_sections": [],
      "include_colab_link": true
    },
    "kernelspec": {
      "name": "python3",
      "display_name": "Python 3"
    }
  },
  "cells": [
    {
      "cell_type": "markdown",
      "metadata": {
        "id": "view-in-github",
        "colab_type": "text"
      },
      "source": [
        "<a href=\"https://colab.research.google.com/github/prashankkadam/Test_TF/blob/Keras/keras_mul_layer_perceptron.ipynb\" target=\"_parent\"><img src=\"https://colab.research.google.com/assets/colab-badge.svg\" alt=\"Open In Colab\"/></a>"
      ]
    },
    {
      "cell_type": "markdown",
      "metadata": {
        "id": "AkN459_cf87j",
        "colab_type": "text"
      },
      "source": [
        "### **Binary Classification for MLP**"
      ]
    },
    {
      "cell_type": "code",
      "metadata": {
        "id": "JvJztAXwOv5Q",
        "colab_type": "code",
        "colab": {
          "base_uri": "https://localhost:8080/",
          "height": 751
        },
        "outputId": "c2c81bb8-53e1-4362-fa7e-f370b059a336"
      },
      "source": [
        "import numpy as np\n",
        "from keras.models import Sequential \n",
        "from keras.layers import Dense, Dropout\n",
        "\n",
        "x_train = np.random.random((1000, 20))\n",
        "y_train = np.random.randint(2, size=(1000, 1))\n",
        "x_test = np.random.random((100, 20))\n",
        "y_test = np.random.randint(2, size=(100, 1))\n",
        "\n",
        "# Designing the model:\n",
        "\n",
        "model = Sequential()\n",
        "model.add(Dense(64, input_dim=20, activation='relu'))\n",
        "model.add(Dropout(0.5))\n",
        "model.add(Dense(64, activation='relu'))\n",
        "model.add(Dropout(0.5))\n",
        "model.add(Dense(1, activation='sigmoid'))\n",
        "\n",
        "model.compile(loss='binary_crossentropy',\n",
        "              optimizer='rmsprop',\n",
        "              metrics=['accuracy'])\n",
        "\n",
        "model.fit(x_train, y_train,\n",
        "          epochs=20,\n",
        "          batch_size=128)\n",
        "\n",
        "score = model.evaluate(x_test, y_test, batch_size=128)\n",
        "\n",
        "print(score)"
      ],
      "execution_count": 4,
      "outputs": [
        {
          "output_type": "stream",
          "text": [
            "Epoch 1/20\n",
            "1000/1000 [==============================] - 0s 332us/step - loss: 0.7321 - acc: 0.4930\n",
            "Epoch 2/20\n",
            "1000/1000 [==============================] - 0s 29us/step - loss: 0.7125 - acc: 0.5100\n",
            "Epoch 3/20\n",
            "1000/1000 [==============================] - 0s 23us/step - loss: 0.7053 - acc: 0.5320\n",
            "Epoch 4/20\n",
            "1000/1000 [==============================] - 0s 24us/step - loss: 0.7028 - acc: 0.5170\n",
            "Epoch 5/20\n",
            "1000/1000 [==============================] - 0s 21us/step - loss: 0.7147 - acc: 0.4790\n",
            "Epoch 6/20\n",
            "1000/1000 [==============================] - 0s 21us/step - loss: 0.7032 - acc: 0.5100\n",
            "Epoch 7/20\n",
            "1000/1000 [==============================] - 0s 20us/step - loss: 0.7013 - acc: 0.5030\n",
            "Epoch 8/20\n",
            "1000/1000 [==============================] - 0s 18us/step - loss: 0.6960 - acc: 0.5170\n",
            "Epoch 9/20\n",
            "1000/1000 [==============================] - 0s 22us/step - loss: 0.7076 - acc: 0.4730\n",
            "Epoch 10/20\n",
            "1000/1000 [==============================] - 0s 24us/step - loss: 0.7016 - acc: 0.4890\n",
            "Epoch 11/20\n",
            "1000/1000 [==============================] - 0s 24us/step - loss: 0.6975 - acc: 0.4990\n",
            "Epoch 12/20\n",
            "1000/1000 [==============================] - 0s 24us/step - loss: 0.6954 - acc: 0.5190\n",
            "Epoch 13/20\n",
            "1000/1000 [==============================] - 0s 34us/step - loss: 0.6930 - acc: 0.5320\n",
            "Epoch 14/20\n",
            "1000/1000 [==============================] - 0s 29us/step - loss: 0.6944 - acc: 0.5140\n",
            "Epoch 15/20\n",
            "1000/1000 [==============================] - 0s 23us/step - loss: 0.6936 - acc: 0.5150\n",
            "Epoch 16/20\n",
            "1000/1000 [==============================] - 0s 24us/step - loss: 0.6978 - acc: 0.4910\n",
            "Epoch 17/20\n",
            "1000/1000 [==============================] - 0s 23us/step - loss: 0.6962 - acc: 0.5210\n",
            "Epoch 18/20\n",
            "1000/1000 [==============================] - 0s 26us/step - loss: 0.6951 - acc: 0.5070\n",
            "Epoch 19/20\n",
            "1000/1000 [==============================] - 0s 24us/step - loss: 0.6947 - acc: 0.5090\n",
            "Epoch 20/20\n",
            "1000/1000 [==============================] - 0s 27us/step - loss: 0.6907 - acc: 0.5150\n",
            "100/100 [==============================] - 0s 990us/step\n",
            "[0.6947498917579651, 0.5299999713897705]\n"
          ],
          "name": "stdout"
        }
      ]
    },
    {
      "cell_type": "code",
      "metadata": {
        "id": "CgbsBVAqk9B6",
        "colab_type": "code",
        "colab": {}
      },
      "source": [
        ""
      ],
      "execution_count": 0,
      "outputs": []
    }
  ]
}